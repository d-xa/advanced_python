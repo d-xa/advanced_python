{
 "cells": [
  {
   "cell_type": "markdown",
   "metadata": {},
   "source": [
    "# Functions (First class objects)\n",
    "Properties:\n",
    "- in Python a function is a first class object\n",
    "- it is an instance of the Object type\n",
    "- you can store the function in a variable\n",
    "- you can pass the function as parameter to another function\n",
    "- you can return the function from a function\n",
    "- you can store them in data structures (e.g. lists)"
   ]
  }
 ],
 "metadata": {
  "language_info": {
   "name": "python"
  },
  "orig_nbformat": 4
 },
 "nbformat": 4,
 "nbformat_minor": 2
}
